from mast_aladin_lite.app import MastAladin
from mast_aladin_lite.adapters import ViewerSyncUI
from mast_aladin_lite.adapters import ImvizSyncAdapter, AladinSyncAdapter

from jdaviz.configs.imviz.helper import _current_app
from mast_aladin_lite.app import gca

from jdaviz import Imviz
import warnings
from ipywidgets import Layout, Box, widgets

import solara


imviz = Imviz()
imviz_viewer = imviz.default_viewer

filenames = [
    'jw02727-o002_t062_nircam_clear-f090w_i2d.fits',
    # 'jw02727-o002_t062_nircam_clear-f150w_i2d.fits',
    # 'jw02727-o002_t062_nircam_clear-f200w_i2d.fits',
    'jw02727-o002_t062_nircam_clear-f277w_i2d.fits',
    # 'jw02727-o002_t062_nircam_clear-f356w_i2d.fits',
    # 'jw02727-o002_t062_nircam_clear-f444w_i2d.fits'
]

with warnings.catch_warnings(), imviz.batch_load():
    warnings.simplefilter('ignore')
    for fn in filenames:
        uri = f"mast:JWST/product/{fn}"
        imviz.load_data(uri, cache=True)


layout = Layout(width="100%")
aladin_viewer = MastAladin(target="Cartwheel Galaxy", layout=layout, fov=.05, height=500)


@solara.component
def View():
    with solara.Column(style={"width": "100%", "height": "100%"}):
        imviz.show()
        imviz.link_data(align_by='wcs')
        imviz.plugins['Orientation'].set_north_up_east_left()
    with solara.Column(style={"width": "100%", "height": "100%"}):
        display(aladin_viewer)

@solara.component
def Controls():
    ui = ViewerSyncUI()
    ui.display()


@solara.component
def Page():
    with solara.Sidebar():
        Controls()
    View()
Page()


aladin_viewer.height



