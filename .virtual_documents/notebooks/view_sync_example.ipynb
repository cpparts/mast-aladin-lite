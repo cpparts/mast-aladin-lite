


import math
from mast_aladin_lite.app import MastAladin
from mast_aladin_lite.adapters import ImvizSyncAdapter, AladinSyncAdapter, ViewerSyncUI, SyncManager
from jdaviz import Imviz
import warnings
import astropy.units as u


aladin_viewer = MastAladin(target="Cartwheel Galaxy", height=500)


imviz = Imviz()
imviz_viewer = imviz.default_viewer

filenames = [
    'jw02727-o002_t062_nircam_clear-f090w_i2d.fits',
    # 'jw02727-o002_t062_nircam_clear-f150w_i2d.fits',
    # 'jw02727-o002_t062_nircam_clear-f200w_i2d.fits',
    'jw02727-o002_t062_nircam_clear-f277w_i2d.fits',
    # 'jw02727-o002_t062_nircam_clear-f356w_i2d.fits',
    # 'jw02727-o002_t062_nircam_clear-f444w_i2d.fits'
]

with warnings.catch_warnings(), imviz.batch_load():
    warnings.simplefilter('ignore')
    for fn in filenames:
        uri = f"mast:JWST/product/{fn}"
        imviz.load_data(uri, cache=True)


ui = ViewerSyncUI()
ui.display()
# imviz.show()





aladin_viewer.rotation = 180


aladin_viewer.rotation


aladin_viewer._rotation, aladin_viewer.rotation


aladin_viewer.observe(lambda c: c.new, "_rotation")


aladin_viewer.fov = 10


aladin_viewer.fov, aladin_viewer._fov



