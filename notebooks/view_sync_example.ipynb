{
 "cells": [
  {
   "cell_type": "code",
   "execution_count": 1,
   "id": "6cb18101-44bf-4cb5-a907-f8b45f9baf84",
   "metadata": {},
   "outputs": [],
   "source": [
    "from mast_aladin_lite.app import MastAladin\n",
    "from mast_aladin_lite.adapters import ImvizSyncAdapter, AladinSyncAdapter, ViewerSyncUI\n",
    "from jdaviz import Imviz\n",
    "import warnings\n",
    "from ipywidgets import Layout, Box, widgets\n",
    "import solara"
   ]
  },
  {
   "cell_type": "code",
   "execution_count": 2,
   "id": "6d693da8-dec5-4a31-a19c-86629441293f",
   "metadata": {},
   "outputs": [
    {
     "name": "stdout",
     "output_type": "stream",
     "text": [
      "INFO: Found cached file jw02727-o002_t062_nircam_clear-f090w_i2d.fits with expected size 626028480. [astroquery.query]\n",
      "INFO: Found cached file jw02727-o002_t062_nircam_clear-f277w_i2d.fits with expected size 144066240. [astroquery.query]\n"
     ]
    }
   ],
   "source": [
    "imviz = Imviz()\n",
    "imviz_viewer = imviz.default_viewer\n",
    "\n",
    "filenames = [\n",
    "    'jw02727-o002_t062_nircam_clear-f090w_i2d.fits',\n",
    "    # 'jw02727-o002_t062_nircam_clear-f150w_i2d.fits',\n",
    "    # 'jw02727-o002_t062_nircam_clear-f200w_i2d.fits',\n",
    "    'jw02727-o002_t062_nircam_clear-f277w_i2d.fits',\n",
    "    # 'jw02727-o002_t062_nircam_clear-f356w_i2d.fits',\n",
    "    # 'jw02727-o002_t062_nircam_clear-f444w_i2d.fits'\n",
    "]\n",
    "\n",
    "with warnings.catch_warnings(), imviz.batch_load():\n",
    "    warnings.simplefilter('ignore')\n",
    "    for fn in filenames:\n",
    "        uri = f\"mast:JWST/product/{fn}\"\n",
    "        imviz.load_data(uri, cache=True)"
   ]
  },
  {
   "cell_type": "code",
   "execution_count": 3,
   "id": "31d177a1-7643-47ee-9385-b3d7c487d333",
   "metadata": {},
   "outputs": [],
   "source": [
    "layout = Layout(width=\"100%\")\n",
    "aladin_viewer = MastAladin(target=\"Cartwheel Galaxy\", layout=layout, height=500)"
   ]
  },
  {
   "cell_type": "code",
   "execution_count": 4,
   "id": "7b6f7622-3f81-4cf1-a95e-f4667a2211a1",
   "metadata": {},
   "outputs": [],
   "source": [
    "ui = ViewerSyncUI()"
   ]
  },
  {
   "cell_type": "code",
   "execution_count": 5,
   "id": "67be41fc-27fe-4bc9-8a58-63119fa5840f",
   "metadata": {},
   "outputs": [
    {
     "data": {
      "application/vnd.jupyter.widget-view+json": {
       "model_id": "ae1a95074a6e481fa050252e73c94897",
       "version_major": 2,
       "version_minor": 0
      },
      "text/plain": [
       "Application(config='imviz', docs_link='https://jdaviz.readthedocs.io/en/latest/imviz/index.html', events=['cal…"
      ]
     },
     "metadata": {},
     "output_type": "display_data"
    },
    {
     "data": {
      "application/vnd.jupyter.widget-view+json": {
       "model_id": "39ac1eb9ef1844cf9ba6263acb2f212a",
       "version_major": 2,
       "version_minor": 0
      },
      "text/plain": [
       "Box(children=(Button(button_style='primary', description='Sync to Imviz Viewer', layout=Layout(flex='1 1 auto'…"
      ]
     },
     "metadata": {},
     "output_type": "display_data"
    },
    {
     "data": {
      "application/vnd.jupyter.widget-view+json": {
       "model_id": "20835a38c4194301b962ac82cbede7de",
       "version_major": 2,
       "version_minor": 1
      },
      "text/plain": [
       "MastAladin(layout=Layout(width='100%'))"
      ]
     },
     "metadata": {},
     "output_type": "display_data"
    }
   ],
   "source": [
    "ui.display()"
   ]
  },
  {
   "cell_type": "code",
   "execution_count": null,
   "id": "52de00f9-f646-4931-80be-70737a98e445",
   "metadata": {},
   "outputs": [],
   "source": []
  }
 ],
 "metadata": {
  "kernelspec": {
   "display_name": "Python 3 (ipykernel)",
   "language": "python",
   "name": "python3"
  },
  "language_info": {
   "codemirror_mode": {
    "name": "ipython",
    "version": 3
   },
   "file_extension": ".py",
   "mimetype": "text/x-python",
   "name": "python",
   "nbconvert_exporter": "python",
   "pygments_lexer": "ipython3",
   "version": "3.12.2"
  }
 },
 "nbformat": 4,
 "nbformat_minor": 5
}
