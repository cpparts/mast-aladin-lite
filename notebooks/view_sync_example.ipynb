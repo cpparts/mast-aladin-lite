{
 "cells": [
  {
   "cell_type": "markdown",
   "id": "7f8b46be-d2b6-49e2-9a2e-c90646df4c39",
   "metadata": {},
   "source": [
    "# View Sync Example Notebook\n",
    "The following notebook demonstrates the syncing of Mast Aladin Lite and Imviz viewers through a sample UI\n",
    "\n",
    "### How it works\n",
    "Simply create an instance of Mast Aladin Lite and Imviz, then the UI will utilize the Get Current App (GCA) methods on both apps to retrieve the instances you defined. The UI will then display an example layout of both viewers along with a controls to manage the syncing of views between them.\n",
    "\n",
    "### Tips\n",
    "Once you load the UI, try the \"Sync to Imviz\" button to update the zoom level on the Mast Aladin Lite viewer to bring the Cartwheel Galaxy into view"
   ]
  },
  {
   "cell_type": "code",
   "execution_count": 1,
   "id": "6cb18101-44bf-4cb5-a907-f8b45f9baf84",
   "metadata": {},
   "outputs": [],
   "source": [
    "import math\n",
    "from mast_aladin_lite.app import MastAladin\n",
    "from mast_aladin_lite.adapters import ImvizSyncAdapter, AladinSyncAdapter, ViewerSyncUI, SyncManager\n",
    "from jdaviz import Imviz\n",
    "import warnings\n",
    "import astropy.units as u"
   ]
  },
  {
   "cell_type": "code",
   "execution_count": 2,
   "id": "31d177a1-7643-47ee-9385-b3d7c487d333",
   "metadata": {},
   "outputs": [],
   "source": [
    "aladin_viewer = MastAladin(target=\"Cartwheel Galaxy\", height=500)"
   ]
  },
  {
   "cell_type": "code",
   "execution_count": 3,
   "id": "6d693da8-dec5-4a31-a19c-86629441293f",
   "metadata": {},
   "outputs": [
    {
     "name": "stdout",
     "output_type": "stream",
     "text": [
      "INFO: Found cached file jw02727-o002_t062_nircam_clear-f090w_i2d.fits with expected size 626028480. [astroquery.query]\n",
      "INFO: Found cached file jw02727-o002_t062_nircam_clear-f277w_i2d.fits with expected size 144066240. [astroquery.query]\n"
     ]
    }
   ],
   "source": [
    "imviz = Imviz()\n",
    "imviz_viewer = imviz.default_viewer\n",
    "\n",
    "filenames = [\n",
    "    'jw02727-o002_t062_nircam_clear-f090w_i2d.fits',\n",
    "    # 'jw02727-o002_t062_nircam_clear-f150w_i2d.fits',\n",
    "    # 'jw02727-o002_t062_nircam_clear-f200w_i2d.fits',\n",
    "    'jw02727-o002_t062_nircam_clear-f277w_i2d.fits',\n",
    "    # 'jw02727-o002_t062_nircam_clear-f356w_i2d.fits',\n",
    "    # 'jw02727-o002_t062_nircam_clear-f444w_i2d.fits'\n",
    "]\n",
    "\n",
    "with warnings.catch_warnings(), imviz.batch_load():\n",
    "    warnings.simplefilter('ignore')\n",
    "    for fn in filenames:\n",
    "        uri = f\"mast:JWST/product/{fn}\"\n",
    "        imviz.load_data(uri, cache=True)"
   ]
  },
  {
   "cell_type": "code",
   "execution_count": 4,
   "id": "6ce175cb-d4ac-493e-9e6d-5aa1837f9dbe",
   "metadata": {
    "editable": true,
    "slideshow": {
     "slide_type": ""
    },
    "tags": []
   },
   "outputs": [
    {
     "data": {
      "application/vnd.jupyter.widget-view+json": {
       "model_id": "8605752ed5584421866f35bec8d6adc2",
       "version_major": 2,
       "version_minor": 0
      },
      "text/plain": [
       "Application(config='imviz', docs_link='https://jdaviz.readthedocs.io/en/latest/imviz/index.html', events=['cal…"
      ]
     },
     "metadata": {},
     "output_type": "display_data"
    },
    {
     "data": {
      "application/vnd.jupyter.widget-view+json": {
       "model_id": "ea0b79efa4bd40dcb5f8c4d89aef94f9",
       "version_major": 2,
       "version_minor": 0
      },
      "text/plain": [
       "ToggleButtons(options=('None', 'Imviz', 'Mast Aladin'), style=ToggleButtonsStyle(button_width='33.1%'), toolti…"
      ]
     },
     "metadata": {},
     "output_type": "display_data"
    },
    {
     "data": {
      "application/vnd.jupyter.widget-view+json": {
       "model_id": "415b4ba28cc54680a305b81fd8aac7dd",
       "version_major": 2,
       "version_minor": 1
      },
      "text/plain": [
       "MastAladin(coo_frame='ICRSd')"
      ]
     },
     "metadata": {},
     "output_type": "display_data"
    }
   ],
   "source": [
    "ui = ViewerSyncUI()\n",
    "ui.display()"
   ]
  },
  {
   "cell_type": "markdown",
   "id": "3c9e0262-cbbd-448f-819d-a9b578f4dad8",
   "metadata": {},
   "source": [
    "### Sync Rotation\n",
    "Try clicking the button in the UI to sync to `Mast Aladin` and then update the rotation of the `aladin_viewer` manually. You should see that `imviz` updates accordingly. The orientation plugin will also have a new orientation option selected corresponding to the aladin rotation."
   ]
  },
  {
   "cell_type": "code",
   "execution_count": 5,
   "id": "c98ca6de-ade2-4c2e-9877-aba784e8a266",
   "metadata": {},
   "outputs": [],
   "source": [
    "aladin_viewer.rotation = 90"
   ]
  }
 ],
 "metadata": {
  "kernelspec": {
   "display_name": "Python 3 (ipykernel)",
   "language": "python",
   "name": "python3"
  },
  "language_info": {
   "codemirror_mode": {
    "name": "ipython",
    "version": 3
   },
   "file_extension": ".py",
   "mimetype": "text/x-python",
   "name": "python",
   "nbconvert_exporter": "python",
   "pygments_lexer": "ipython3",
   "version": "3.12.2"
  }
 },
 "nbformat": 4,
 "nbformat_minor": 5
}
